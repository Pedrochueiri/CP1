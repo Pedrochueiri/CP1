{
  "cells": [
    {
      "cell_type": "markdown",
      "metadata": {
        "id": "8TQaeVYQl6Gv"
      },
      "source": [
        "## Aprendizagem de máquina\n",
        "\n",
        "### Objetivos\n",
        "\n",
        "  - Avaliar os conceitos de aprendizado de maquina aprendidos no curso\n"
      ]
    },
    {
      "cell_type": "markdown",
      "metadata": {
        "id": "yis65elQl6G5"
      },
      "source": [
        "# Desafio\n",
        "\n",
        "Você foi contratado por uma empresa inovadora do ramo imobiliario como `QuintoAndar, Loft, Terraz, grupo Zap (ZAP, Viva Real, DataZAP, FipeZAP, SuaHouse, Geoimóvel, Sub100 e Conecta Imobi) ou Imobi Conference`. O seu desafio está no apio à tomada de decisão baseada em dados (empresa data driven). \n",
        "\n",
        "Nesse sentido, use a base de dados **aptos.csv** para realizar a descoberta do conhecimento e responder a pergunta: \n",
        "\n",
        "**`Quanto vale um apartamento de 72m2 com 2 quartos, 2 vagas, reformado no Centro?`**\n"
      ]
    },
    {
      "cell_type": "markdown",
      "metadata": {
        "id": "Em5tcH0Rl6G7"
      },
      "source": [
        "### Orientações\n",
        "\n",
        "Siga as instruções, completando e construindo os algoritmos necessários.\n",
        "\n",
        "Nas celulas` Seu Código aqui...` significa que é necessário realizar a implementação de algum código. Utilize quantos blocos(células) julgar necessário para criar o código.\n",
        "\n",
        "Nas celulas `Responda` significa que é nessário uma resposta clara e objetiva (pode ser por texto, código, gráfico, imagem...) para a pergunta."
      ]
    },
    {
      "cell_type": "markdown",
      "metadata": {
        "id": "MPkYxcSll6G8"
      },
      "source": [
        "## Rubrica para avaliação\n",
        "    \n",
        "Os critérios de avaliação do projeto segue conforme a rubrica.\n",
        "\n",
        "- R1: Exploração de Dados (Até 2 pontos)\n",
        "- R2: Análise Descritiva de Dados (Até 2 pontos)\n",
        "- R3: Desenvolvimento do Modelo (Até 2 pontos)\n",
        "- R4: Treinamento e Teste do Modelo (Até 2 pontos)\n",
        "- R5: Conclusões Finais (Até 2 pontos)\n",
        "\n",
        "**Nota_final = R1 + R2 + R3 + R4 + R5**"
      ]
    },
    {
      "cell_type": "markdown",
      "metadata": {
        "id": "--79z4IDl6G-"
      },
      "source": [
        "# 1. Exploração de Dados\n",
        "\n",
        "Carregue o dataset e faça uma inspeção nas 15 primeiras linhas para identificação básica dos atributos.\n"
      ]
    },
    {
      "cell_type": "code",
      "execution_count": 205,
      "metadata": {
        "id": "vPaafBZZl6G_"
      },
      "outputs": [],
      "source": [
        "import seaborn as sns\n",
        "import matplotlib.pyplot as plt\n",
        "import pandas as pd\n",
        "import numpy as np\n",
        "\n",
        "%matplotlib inline"
      ]
    },
    {
      "cell_type": "code",
      "execution_count": 206,
      "metadata": {
        "id": "yrWeoshKl6HC"
      },
      "outputs": [],
      "source": [
        "# Lê e carrega o arquivo para a memória\n",
        "df = pd.read_csv('aptos.csv')\n",
        "\n"
      ]
    },
    {
      "cell_type": "code",
      "source": [
        "df.info()\n"
      ],
      "metadata": {
        "colab": {
          "base_uri": "https://localhost:8080/"
        },
        "id": "vzBx6JIXLUnA",
        "outputId": "019ccf48-17a8-432d-e1ef-2b4007fccadf"
      },
      "execution_count": 207,
      "outputs": [
        {
          "output_type": "stream",
          "name": "stdout",
          "text": [
            "<class 'pandas.core.frame.DataFrame'>\n",
            "RangeIndex: 114 entries, 0 to 113\n",
            "Data columns (total 6 columns):\n",
            " #   Column     Non-Null Count  Dtype  \n",
            "---  ------     --------------  -----  \n",
            " 0   metros     114 non-null    int64  \n",
            " 1   valor      113 non-null    float64\n",
            " 2   quartos    114 non-null    int64  \n",
            " 3   vagas      114 non-null    int64  \n",
            " 4   reformado  113 non-null    float64\n",
            " 5   bairro     114 non-null    object \n",
            "dtypes: float64(2), int64(3), object(1)\n",
            "memory usage: 5.5+ KB\n"
          ]
        }
      ]
    },
    {
      "cell_type": "code",
      "source": [
        "df.dropna(inplace = True)"
      ],
      "metadata": {
        "id": "GzxLqmo6YuAk"
      },
      "execution_count": 208,
      "outputs": []
    },
    {
      "cell_type": "code",
      "source": [
        "df.info()"
      ],
      "metadata": {
        "colab": {
          "base_uri": "https://localhost:8080/"
        },
        "id": "fsqGSX2TZKv5",
        "outputId": "65504233-fcba-41eb-cdb2-f1d4793edd35"
      },
      "execution_count": 209,
      "outputs": [
        {
          "output_type": "stream",
          "name": "stdout",
          "text": [
            "<class 'pandas.core.frame.DataFrame'>\n",
            "Int64Index: 112 entries, 0 to 113\n",
            "Data columns (total 6 columns):\n",
            " #   Column     Non-Null Count  Dtype  \n",
            "---  ------     --------------  -----  \n",
            " 0   metros     112 non-null    int64  \n",
            " 1   valor      112 non-null    float64\n",
            " 2   quartos    112 non-null    int64  \n",
            " 3   vagas      112 non-null    int64  \n",
            " 4   reformado  112 non-null    float64\n",
            " 5   bairro     112 non-null    object \n",
            "dtypes: float64(2), int64(3), object(1)\n",
            "memory usage: 6.1+ KB\n"
          ]
        }
      ]
    },
    {
      "cell_type": "code",
      "source": [
        "df.head(15)"
      ],
      "metadata": {
        "colab": {
          "base_uri": "https://localhost:8080/",
          "height": 520
        },
        "id": "EUvMXo2XwlAE",
        "outputId": "a6154ae4-2b3f-4e67-c254-079c9e360435"
      },
      "execution_count": 210,
      "outputs": [
        {
          "output_type": "execute_result",
          "data": {
            "text/plain": [
              "    metros  valor  quartos  vagas  reformado          bairro\n",
              "0      107  560.0        3      2        0.0  Vila Lusitania\n",
              "1      107  555.0        3      2        1.0  Vila Lusitania\n",
              "2       49  196.0        2      1        0.0    Ferrazopolis\n",
              "3      104  515.0        3      2        1.0          Centro\n",
              "4       92  560.0        3      2        1.0  Vila Lusitania\n",
              "5       51  249.0        2      1        0.0          Taboao\n",
              "6      140  635.0        4      3        1.0          Centro\n",
              "7       50  210.0        2      1        1.0        Demarchi\n",
              "8       93  450.0        3      2        0.0     Baeta Neves\n",
              "9      107  425.0        3      2        1.0     Rudge Ramos\n",
              "10     100  422.0        3      2        1.0     Baeta Neves\n",
              "11      64  250.0        2      1        1.0       Pauliceia\n",
              "12      65  350.0        2      2        1.0          Centro\n",
              "13      71  303.0        3      1        0.0          Centro\n",
              "14      64  294.0        3      1        0.0        Planalto"
            ],
            "text/html": [
              "\n",
              "  <div id=\"df-5f0d6d0d-30a1-4825-8fc9-6a283ef979aa\">\n",
              "    <div class=\"colab-df-container\">\n",
              "      <div>\n",
              "<style scoped>\n",
              "    .dataframe tbody tr th:only-of-type {\n",
              "        vertical-align: middle;\n",
              "    }\n",
              "\n",
              "    .dataframe tbody tr th {\n",
              "        vertical-align: top;\n",
              "    }\n",
              "\n",
              "    .dataframe thead th {\n",
              "        text-align: right;\n",
              "    }\n",
              "</style>\n",
              "<table border=\"1\" class=\"dataframe\">\n",
              "  <thead>\n",
              "    <tr style=\"text-align: right;\">\n",
              "      <th></th>\n",
              "      <th>metros</th>\n",
              "      <th>valor</th>\n",
              "      <th>quartos</th>\n",
              "      <th>vagas</th>\n",
              "      <th>reformado</th>\n",
              "      <th>bairro</th>\n",
              "    </tr>\n",
              "  </thead>\n",
              "  <tbody>\n",
              "    <tr>\n",
              "      <th>0</th>\n",
              "      <td>107</td>\n",
              "      <td>560.0</td>\n",
              "      <td>3</td>\n",
              "      <td>2</td>\n",
              "      <td>0.0</td>\n",
              "      <td>Vila Lusitania</td>\n",
              "    </tr>\n",
              "    <tr>\n",
              "      <th>1</th>\n",
              "      <td>107</td>\n",
              "      <td>555.0</td>\n",
              "      <td>3</td>\n",
              "      <td>2</td>\n",
              "      <td>1.0</td>\n",
              "      <td>Vila Lusitania</td>\n",
              "    </tr>\n",
              "    <tr>\n",
              "      <th>2</th>\n",
              "      <td>49</td>\n",
              "      <td>196.0</td>\n",
              "      <td>2</td>\n",
              "      <td>1</td>\n",
              "      <td>0.0</td>\n",
              "      <td>Ferrazopolis</td>\n",
              "    </tr>\n",
              "    <tr>\n",
              "      <th>3</th>\n",
              "      <td>104</td>\n",
              "      <td>515.0</td>\n",
              "      <td>3</td>\n",
              "      <td>2</td>\n",
              "      <td>1.0</td>\n",
              "      <td>Centro</td>\n",
              "    </tr>\n",
              "    <tr>\n",
              "      <th>4</th>\n",
              "      <td>92</td>\n",
              "      <td>560.0</td>\n",
              "      <td>3</td>\n",
              "      <td>2</td>\n",
              "      <td>1.0</td>\n",
              "      <td>Vila Lusitania</td>\n",
              "    </tr>\n",
              "    <tr>\n",
              "      <th>5</th>\n",
              "      <td>51</td>\n",
              "      <td>249.0</td>\n",
              "      <td>2</td>\n",
              "      <td>1</td>\n",
              "      <td>0.0</td>\n",
              "      <td>Taboao</td>\n",
              "    </tr>\n",
              "    <tr>\n",
              "      <th>6</th>\n",
              "      <td>140</td>\n",
              "      <td>635.0</td>\n",
              "      <td>4</td>\n",
              "      <td>3</td>\n",
              "      <td>1.0</td>\n",
              "      <td>Centro</td>\n",
              "    </tr>\n",
              "    <tr>\n",
              "      <th>7</th>\n",
              "      <td>50</td>\n",
              "      <td>210.0</td>\n",
              "      <td>2</td>\n",
              "      <td>1</td>\n",
              "      <td>1.0</td>\n",
              "      <td>Demarchi</td>\n",
              "    </tr>\n",
              "    <tr>\n",
              "      <th>8</th>\n",
              "      <td>93</td>\n",
              "      <td>450.0</td>\n",
              "      <td>3</td>\n",
              "      <td>2</td>\n",
              "      <td>0.0</td>\n",
              "      <td>Baeta Neves</td>\n",
              "    </tr>\n",
              "    <tr>\n",
              "      <th>9</th>\n",
              "      <td>107</td>\n",
              "      <td>425.0</td>\n",
              "      <td>3</td>\n",
              "      <td>2</td>\n",
              "      <td>1.0</td>\n",
              "      <td>Rudge Ramos</td>\n",
              "    </tr>\n",
              "    <tr>\n",
              "      <th>10</th>\n",
              "      <td>100</td>\n",
              "      <td>422.0</td>\n",
              "      <td>3</td>\n",
              "      <td>2</td>\n",
              "      <td>1.0</td>\n",
              "      <td>Baeta Neves</td>\n",
              "    </tr>\n",
              "    <tr>\n",
              "      <th>11</th>\n",
              "      <td>64</td>\n",
              "      <td>250.0</td>\n",
              "      <td>2</td>\n",
              "      <td>1</td>\n",
              "      <td>1.0</td>\n",
              "      <td>Pauliceia</td>\n",
              "    </tr>\n",
              "    <tr>\n",
              "      <th>12</th>\n",
              "      <td>65</td>\n",
              "      <td>350.0</td>\n",
              "      <td>2</td>\n",
              "      <td>2</td>\n",
              "      <td>1.0</td>\n",
              "      <td>Centro</td>\n",
              "    </tr>\n",
              "    <tr>\n",
              "      <th>13</th>\n",
              "      <td>71</td>\n",
              "      <td>303.0</td>\n",
              "      <td>3</td>\n",
              "      <td>1</td>\n",
              "      <td>0.0</td>\n",
              "      <td>Centro</td>\n",
              "    </tr>\n",
              "    <tr>\n",
              "      <th>14</th>\n",
              "      <td>64</td>\n",
              "      <td>294.0</td>\n",
              "      <td>3</td>\n",
              "      <td>1</td>\n",
              "      <td>0.0</td>\n",
              "      <td>Planalto</td>\n",
              "    </tr>\n",
              "  </tbody>\n",
              "</table>\n",
              "</div>\n",
              "      <button class=\"colab-df-convert\" onclick=\"convertToInteractive('df-5f0d6d0d-30a1-4825-8fc9-6a283ef979aa')\"\n",
              "              title=\"Convert this dataframe to an interactive table.\"\n",
              "              style=\"display:none;\">\n",
              "        \n",
              "  <svg xmlns=\"http://www.w3.org/2000/svg\" height=\"24px\"viewBox=\"0 0 24 24\"\n",
              "       width=\"24px\">\n",
              "    <path d=\"M0 0h24v24H0V0z\" fill=\"none\"/>\n",
              "    <path d=\"M18.56 5.44l.94 2.06.94-2.06 2.06-.94-2.06-.94-.94-2.06-.94 2.06-2.06.94zm-11 1L8.5 8.5l.94-2.06 2.06-.94-2.06-.94L8.5 2.5l-.94 2.06-2.06.94zm10 10l.94 2.06.94-2.06 2.06-.94-2.06-.94-.94-2.06-.94 2.06-2.06.94z\"/><path d=\"M17.41 7.96l-1.37-1.37c-.4-.4-.92-.59-1.43-.59-.52 0-1.04.2-1.43.59L10.3 9.45l-7.72 7.72c-.78.78-.78 2.05 0 2.83L4 21.41c.39.39.9.59 1.41.59.51 0 1.02-.2 1.41-.59l7.78-7.78 2.81-2.81c.8-.78.8-2.07 0-2.86zM5.41 20L4 18.59l7.72-7.72 1.47 1.35L5.41 20z\"/>\n",
              "  </svg>\n",
              "      </button>\n",
              "      \n",
              "  <style>\n",
              "    .colab-df-container {\n",
              "      display:flex;\n",
              "      flex-wrap:wrap;\n",
              "      gap: 12px;\n",
              "    }\n",
              "\n",
              "    .colab-df-convert {\n",
              "      background-color: #E8F0FE;\n",
              "      border: none;\n",
              "      border-radius: 50%;\n",
              "      cursor: pointer;\n",
              "      display: none;\n",
              "      fill: #1967D2;\n",
              "      height: 32px;\n",
              "      padding: 0 0 0 0;\n",
              "      width: 32px;\n",
              "    }\n",
              "\n",
              "    .colab-df-convert:hover {\n",
              "      background-color: #E2EBFA;\n",
              "      box-shadow: 0px 1px 2px rgba(60, 64, 67, 0.3), 0px 1px 3px 1px rgba(60, 64, 67, 0.15);\n",
              "      fill: #174EA6;\n",
              "    }\n",
              "\n",
              "    [theme=dark] .colab-df-convert {\n",
              "      background-color: #3B4455;\n",
              "      fill: #D2E3FC;\n",
              "    }\n",
              "\n",
              "    [theme=dark] .colab-df-convert:hover {\n",
              "      background-color: #434B5C;\n",
              "      box-shadow: 0px 1px 3px 1px rgba(0, 0, 0, 0.15);\n",
              "      filter: drop-shadow(0px 1px 2px rgba(0, 0, 0, 0.3));\n",
              "      fill: #FFFFFF;\n",
              "    }\n",
              "  </style>\n",
              "\n",
              "      <script>\n",
              "        const buttonEl =\n",
              "          document.querySelector('#df-5f0d6d0d-30a1-4825-8fc9-6a283ef979aa button.colab-df-convert');\n",
              "        buttonEl.style.display =\n",
              "          google.colab.kernel.accessAllowed ? 'block' : 'none';\n",
              "\n",
              "        async function convertToInteractive(key) {\n",
              "          const element = document.querySelector('#df-5f0d6d0d-30a1-4825-8fc9-6a283ef979aa');\n",
              "          const dataTable =\n",
              "            await google.colab.kernel.invokeFunction('convertToInteractive',\n",
              "                                                     [key], {});\n",
              "          if (!dataTable) return;\n",
              "\n",
              "          const docLinkHtml = 'Like what you see? Visit the ' +\n",
              "            '<a target=\"_blank\" href=https://colab.research.google.com/notebooks/data_table.ipynb>data table notebook</a>'\n",
              "            + ' to learn more about interactive tables.';\n",
              "          element.innerHTML = '';\n",
              "          dataTable['output_type'] = 'display_data';\n",
              "          await google.colab.output.renderOutput(dataTable, element);\n",
              "          const docLink = document.createElement('div');\n",
              "          docLink.innerHTML = docLinkHtml;\n",
              "          element.appendChild(docLink);\n",
              "        }\n",
              "      </script>\n",
              "    </div>\n",
              "  </div>\n",
              "  "
            ]
          },
          "metadata": {},
          "execution_count": 210
        }
      ]
    },
    {
      "cell_type": "code",
      "source": [
        "df.describe()"
      ],
      "metadata": {
        "colab": {
          "base_uri": "https://localhost:8080/",
          "height": 300
        },
        "id": "ZF-VTAlnvSRM",
        "outputId": "4f3e4bf8-d62f-49ca-85fe-715d4e8640f0"
      },
      "execution_count": 211,
      "outputs": [
        {
          "output_type": "execute_result",
          "data": {
            "text/plain": [
              "           metros       valor     quartos       vagas   reformado\n",
              "count  112.000000  112.000000  112.000000  112.000000  112.000000\n",
              "mean    79.383929  402.660714    2.553571    1.660714    0.517857\n",
              "std     27.371072  171.723670    0.566947    0.691696    0.501927\n",
              "min     43.000000  188.000000    1.000000    0.000000    0.000000\n",
              "25%     56.000000  253.750000    2.000000    1.000000    0.000000\n",
              "50%     71.000000  348.500000    3.000000    2.000000    1.000000\n",
              "75%     97.000000  515.750000    3.000000    2.000000    1.000000\n",
              "max    199.000000  880.000000    4.000000    4.000000    1.000000"
            ],
            "text/html": [
              "\n",
              "  <div id=\"df-fb440639-9929-4c74-8e85-3ee1be3799fa\">\n",
              "    <div class=\"colab-df-container\">\n",
              "      <div>\n",
              "<style scoped>\n",
              "    .dataframe tbody tr th:only-of-type {\n",
              "        vertical-align: middle;\n",
              "    }\n",
              "\n",
              "    .dataframe tbody tr th {\n",
              "        vertical-align: top;\n",
              "    }\n",
              "\n",
              "    .dataframe thead th {\n",
              "        text-align: right;\n",
              "    }\n",
              "</style>\n",
              "<table border=\"1\" class=\"dataframe\">\n",
              "  <thead>\n",
              "    <tr style=\"text-align: right;\">\n",
              "      <th></th>\n",
              "      <th>metros</th>\n",
              "      <th>valor</th>\n",
              "      <th>quartos</th>\n",
              "      <th>vagas</th>\n",
              "      <th>reformado</th>\n",
              "    </tr>\n",
              "  </thead>\n",
              "  <tbody>\n",
              "    <tr>\n",
              "      <th>count</th>\n",
              "      <td>112.000000</td>\n",
              "      <td>112.000000</td>\n",
              "      <td>112.000000</td>\n",
              "      <td>112.000000</td>\n",
              "      <td>112.000000</td>\n",
              "    </tr>\n",
              "    <tr>\n",
              "      <th>mean</th>\n",
              "      <td>79.383929</td>\n",
              "      <td>402.660714</td>\n",
              "      <td>2.553571</td>\n",
              "      <td>1.660714</td>\n",
              "      <td>0.517857</td>\n",
              "    </tr>\n",
              "    <tr>\n",
              "      <th>std</th>\n",
              "      <td>27.371072</td>\n",
              "      <td>171.723670</td>\n",
              "      <td>0.566947</td>\n",
              "      <td>0.691696</td>\n",
              "      <td>0.501927</td>\n",
              "    </tr>\n",
              "    <tr>\n",
              "      <th>min</th>\n",
              "      <td>43.000000</td>\n",
              "      <td>188.000000</td>\n",
              "      <td>1.000000</td>\n",
              "      <td>0.000000</td>\n",
              "      <td>0.000000</td>\n",
              "    </tr>\n",
              "    <tr>\n",
              "      <th>25%</th>\n",
              "      <td>56.000000</td>\n",
              "      <td>253.750000</td>\n",
              "      <td>2.000000</td>\n",
              "      <td>1.000000</td>\n",
              "      <td>0.000000</td>\n",
              "    </tr>\n",
              "    <tr>\n",
              "      <th>50%</th>\n",
              "      <td>71.000000</td>\n",
              "      <td>348.500000</td>\n",
              "      <td>3.000000</td>\n",
              "      <td>2.000000</td>\n",
              "      <td>1.000000</td>\n",
              "    </tr>\n",
              "    <tr>\n",
              "      <th>75%</th>\n",
              "      <td>97.000000</td>\n",
              "      <td>515.750000</td>\n",
              "      <td>3.000000</td>\n",
              "      <td>2.000000</td>\n",
              "      <td>1.000000</td>\n",
              "    </tr>\n",
              "    <tr>\n",
              "      <th>max</th>\n",
              "      <td>199.000000</td>\n",
              "      <td>880.000000</td>\n",
              "      <td>4.000000</td>\n",
              "      <td>4.000000</td>\n",
              "      <td>1.000000</td>\n",
              "    </tr>\n",
              "  </tbody>\n",
              "</table>\n",
              "</div>\n",
              "      <button class=\"colab-df-convert\" onclick=\"convertToInteractive('df-fb440639-9929-4c74-8e85-3ee1be3799fa')\"\n",
              "              title=\"Convert this dataframe to an interactive table.\"\n",
              "              style=\"display:none;\">\n",
              "        \n",
              "  <svg xmlns=\"http://www.w3.org/2000/svg\" height=\"24px\"viewBox=\"0 0 24 24\"\n",
              "       width=\"24px\">\n",
              "    <path d=\"M0 0h24v24H0V0z\" fill=\"none\"/>\n",
              "    <path d=\"M18.56 5.44l.94 2.06.94-2.06 2.06-.94-2.06-.94-.94-2.06-.94 2.06-2.06.94zm-11 1L8.5 8.5l.94-2.06 2.06-.94-2.06-.94L8.5 2.5l-.94 2.06-2.06.94zm10 10l.94 2.06.94-2.06 2.06-.94-2.06-.94-.94-2.06-.94 2.06-2.06.94z\"/><path d=\"M17.41 7.96l-1.37-1.37c-.4-.4-.92-.59-1.43-.59-.52 0-1.04.2-1.43.59L10.3 9.45l-7.72 7.72c-.78.78-.78 2.05 0 2.83L4 21.41c.39.39.9.59 1.41.59.51 0 1.02-.2 1.41-.59l7.78-7.78 2.81-2.81c.8-.78.8-2.07 0-2.86zM5.41 20L4 18.59l7.72-7.72 1.47 1.35L5.41 20z\"/>\n",
              "  </svg>\n",
              "      </button>\n",
              "      \n",
              "  <style>\n",
              "    .colab-df-container {\n",
              "      display:flex;\n",
              "      flex-wrap:wrap;\n",
              "      gap: 12px;\n",
              "    }\n",
              "\n",
              "    .colab-df-convert {\n",
              "      background-color: #E8F0FE;\n",
              "      border: none;\n",
              "      border-radius: 50%;\n",
              "      cursor: pointer;\n",
              "      display: none;\n",
              "      fill: #1967D2;\n",
              "      height: 32px;\n",
              "      padding: 0 0 0 0;\n",
              "      width: 32px;\n",
              "    }\n",
              "\n",
              "    .colab-df-convert:hover {\n",
              "      background-color: #E2EBFA;\n",
              "      box-shadow: 0px 1px 2px rgba(60, 64, 67, 0.3), 0px 1px 3px 1px rgba(60, 64, 67, 0.15);\n",
              "      fill: #174EA6;\n",
              "    }\n",
              "\n",
              "    [theme=dark] .colab-df-convert {\n",
              "      background-color: #3B4455;\n",
              "      fill: #D2E3FC;\n",
              "    }\n",
              "\n",
              "    [theme=dark] .colab-df-convert:hover {\n",
              "      background-color: #434B5C;\n",
              "      box-shadow: 0px 1px 3px 1px rgba(0, 0, 0, 0.15);\n",
              "      filter: drop-shadow(0px 1px 2px rgba(0, 0, 0, 0.3));\n",
              "      fill: #FFFFFF;\n",
              "    }\n",
              "  </style>\n",
              "\n",
              "      <script>\n",
              "        const buttonEl =\n",
              "          document.querySelector('#df-fb440639-9929-4c74-8e85-3ee1be3799fa button.colab-df-convert');\n",
              "        buttonEl.style.display =\n",
              "          google.colab.kernel.accessAllowed ? 'block' : 'none';\n",
              "\n",
              "        async function convertToInteractive(key) {\n",
              "          const element = document.querySelector('#df-fb440639-9929-4c74-8e85-3ee1be3799fa');\n",
              "          const dataTable =\n",
              "            await google.colab.kernel.invokeFunction('convertToInteractive',\n",
              "                                                     [key], {});\n",
              "          if (!dataTable) return;\n",
              "\n",
              "          const docLinkHtml = 'Like what you see? Visit the ' +\n",
              "            '<a target=\"_blank\" href=https://colab.research.google.com/notebooks/data_table.ipynb>data table notebook</a>'\n",
              "            + ' to learn more about interactive tables.';\n",
              "          element.innerHTML = '';\n",
              "          dataTable['output_type'] = 'display_data';\n",
              "          await google.colab.output.renderOutput(dataTable, element);\n",
              "          const docLink = document.createElement('div');\n",
              "          docLink.innerHTML = docLinkHtml;\n",
              "          element.appendChild(docLink);\n",
              "        }\n",
              "      </script>\n",
              "    </div>\n",
              "  </div>\n",
              "  "
            ]
          },
          "metadata": {},
          "execution_count": 211
        }
      ]
    },
    {
      "cell_type": "code",
      "source": [
        "print(df.groupby('bairro').size())"
      ],
      "metadata": {
        "colab": {
          "base_uri": "https://localhost:8080/"
        },
        "id": "gkxLXLBswm8w",
        "outputId": "99ab8205-2522-464a-c69b-2f2327835af2"
      },
      "execution_count": 212,
      "outputs": [
        {
          "output_type": "stream",
          "name": "stdout",
          "text": [
            "bairro\n",
            "Assuncao            9\n",
            "Baeta Neves        17\n",
            "Centro             34\n",
            "Demarchi            5\n",
            "Ferrazopolis        4\n",
            "Independencia       3\n",
            "Iraja               3\n",
            "Jardim do Mar       2\n",
            "Jordanopolis        1\n",
            "Nova Petropolis     3\n",
            "Pauliceia           2\n",
            "Piraporinha         1\n",
            "Planalto            5\n",
            "Rudge Ramos         9\n",
            "Santa Teresinha     4\n",
            "Taboao              4\n",
            "Vila Lusitania      6\n",
            "dtype: int64\n"
          ]
        }
      ]
    },
    {
      "cell_type": "markdown",
      "metadata": {
        "id": "Dm2QxKrFl6HF"
      },
      "source": [
        "### `Pergunta:` Apresente uma breve descrição do significado de cada atributo:\n",
        "\n",
        "Exemplo:\n",
        "- Idade: Idade em anos da pessoa\n",
        "- Marca: fabricante de carros\n",
        "- Combustivel: tipo de combustível (gasolina, disel...)\n",
        "- Especie: Tipo de flor iris-setosa, virginica... (Variável Alvo)\n",
        "\n",
        "\n",
        "\n",
        "\n"
      ]
    },
    {
      "cell_type": "markdown",
      "metadata": {
        "id": "-ZEacNekl6HH"
      },
      "source": [
        "**Resposta:**\n",
        "\n",
        "-   ..:.Metros: Tamanho de cada locação \n",
        "-   ..:.Valor: Quanto dinheiro vale cada locação\n",
        "-   ..:.Quartos:Quantos quartos a locação possui\n",
        "-   ..:.Vagas:Quantas vagas a locação possui\n",
        "-   ..:.Refomado:Se já foi reformado \n",
        "-   ..:.Bairro:Em qual bairro esta localizao "
      ]
    },
    {
      "cell_type": "markdown",
      "metadata": {
        "id": "BVCCPbTql6HJ"
      },
      "source": [
        "**Pergunta:** Cite 2 cenários que podem fazer sentido na leitura dos dados apresentados.\n",
        "\n",
        "Exemplo: \n",
        "- Eu acho que o preço da gasolina sobe com o preço do petróleo. \n",
        "- Eu acho que na média homens são mais altos que mulheres na mesma faixa etaria.  "
      ]
    },
    {
      "cell_type": "markdown",
      "metadata": {
        "id": "BBU2CU3nl6HK"
      },
      "source": [
        "**Resposta:**\n",
        "\n",
        "1.  ...Eu acho que o preço do imovel aumenta em relação ao tamanho dele. \n",
        "2.  ...Eu acho que a media de quartos depende do tamanho do imovel."
      ]
    },
    {
      "cell_type": "markdown",
      "metadata": {
        "id": "RZBWq8NVl6HK"
      },
      "source": [
        "## 2. Análise descritiva de dados\n",
        "\n",
        "Faça uma análise exploratória dos dados. Utilize-se de gráficos e tabelas auxiliares, faça correlações entre os atributos.... Com o objetivo validar as afirmações levantadas acima."
      ]
    },
    {
      "cell_type": "code",
      "source": [
        "import matplotlib.pyplot as plt\n",
        "import numpy as np\n",
        "import pandas as pd\n",
        "\n",
        "plt.style.use('_mpl-gallery')\n",
        "\n",
        "\n",
        "metros = df['metros']\n",
        "valor = df['valor']\n",
        "\n",
        "fig, ax = plt.subplots()\n",
        "\n",
        "ax.plot(metros, valor, linewidth=2.0)\n",
        "\n",
        "ax.set(xlim=(0, 8), xticks=np.arange(1, 8),\n",
        "       ylim=(0, 8), yticks=np.arange(1, 8),\n",
        "       xlabel='Metros', ylabel='Valor')\n",
        "\n",
        "plt.show()"
      ],
      "metadata": {
        "id": "3ygBrrW2uXT3",
        "colab": {
          "base_uri": "https://localhost:8080/",
          "height": 200
        },
        "outputId": "c2ade243-bdf8-4acb-f26c-e4a630e600fb"
      },
      "execution_count": 213,
      "outputs": [
        {
          "output_type": "display_data",
          "data": {
            "text/plain": [
              "<Figure size 144x144 with 1 Axes>"
            ],
            "image/png": "[encoded data removed]"
          },
          "metadata": {
            "needs_background": "light"
          }
        }
      ]
    },
    {
      "cell_type": "code",
      "execution_count": 214,
      "metadata": {
        "colab": {
          "base_uri": "https://localhost:8080/",
          "height": 1000
        },
        "id": "FytCw6cVl6HL",
        "outputId": "034ade3a-e034-4ea2-a064-74af721ec6f5"
      },
      "outputs": [
        {
          "output_type": "display_data",
          "data": {
            "text/plain": [
              "<Figure size 1080x1080 with 6 Axes>"
            ],
            "image/png": "[encoded data removed]"
          },
          "metadata": {
            "needs_background": "light"
          }
        }
      ],
      "source": [
        "# Lembra de histograma, que exibe uma gráfico de frequência.\n",
        "df.hist(bins=100, figsize=(15, 15))\n",
        "plt.show()"
      ]
    },
    {
      "cell_type": "code",
      "source": [
        "cols = ['metros', 'valor', 'quartos']\n",
        "corr_matx = df[cols].corr()\n",
        "heatmap = sns.heatmap(corr_matx,cbar=True,annot=True,square=True,fmt='.2f',annot_kws={'size': 15},yticklabels=cols,xticklabels=cols,cmap='Dark2')"
      ],
      "metadata": {
        "colab": {
          "base_uri": "https://localhost:8080/",
          "height": 176
        },
        "id": "AExYpHse3Kbr",
        "outputId": "4f599a52-3759-4313-c832-1b5d36447d34"
      },
      "execution_count": 215,
      "outputs": [
        {
          "output_type": "display_data",
          "data": {
            "text/plain": [
              "<Figure size 144x144 with 2 Axes>"
            ],
            "image/png": "[encoded data removed]"
          },
          "metadata": {
            "needs_background": "light"
          }
        }
      ]
    },
    {
      "cell_type": "markdown",
      "metadata": {
        "id": "7WzQliQxl6HL"
      },
      "source": [
        "### __(BONUS: 1 ponto extra.)__ Análise de Outliers\n",
        "*Esse é um ponto extra, faça se quiser...\n",
        "\n",
        "Realize a análise e o tratamento de **outliers**, como referência para estudo:\n",
        "\n",
        "* [link1](https://machinelearningmastery.com/model-based-outlier-detection-and-removal-in-python/)\n",
        "* [link2](https://towardsdatascience.com/4-machine-learning-techniques-for-outlier-detection-in-python-21e9cfacb81d)\n",
        "* [link3](https://minerandodados.com.br/tratando-outliers-python/)\n",
        "\n",
        "**Pergunta:** Foram localizados outliers? Qual o método de análise adotado? Se existe, como os dados foram tratados (foram removidos ou mantidos)? "
      ]
    },
    {
      "cell_type": "markdown",
      "metadata": {
        "id": "T3JU3CNpl6HL"
      },
      "source": [
        "## 3. Desenvolvimento do Modelo"
      ]
    },
    {
      "cell_type": "markdown",
      "metadata": {
        "id": "m8zx4sH5l6HM"
      },
      "source": [
        "**Pergunta:** O conjunto de dados indica a aplicação de qual modelo de aprendizagem de maquina para determinação do valor de um imóvel? Por que ? "
      ]
    },
    {
      "cell_type": "markdown",
      "metadata": {
        "id": "yr34ZS6Bl6HM"
      },
      "source": [
        "**Resposta:**\n",
        "\n",
        "    [ ] Aprendizado por reforço\n",
        "    [X] Aprendizado supervisionado\n",
        "    [ ] Aprendizado não supervisionado\n",
        "\n",
        "Resposta: Por que o aprendizado supervisionado é uma técnica de aprendizado de máquina amplamente utilizada que permite treinar modelos para prever resultados futuros com base em dados rotulados. É útil em diversas áreas, incluindo previsão, classificação, reconhecimento de padrões, otimização e personalização. Essa técnica ajuda a melhorar a eficiência de processos e sistemas e permite a personalização de recomendações e previsões com base nos dados de um usuário."
      ]
    },
    {
      "cell_type": "markdown",
      "metadata": {
        "id": "plcZbyD3l6HM"
      },
      "source": [
        "**Pergunta:** Qual a técnica sugerida para este projeto?"
      ]
    },
    {
      "cell_type": "markdown",
      "metadata": {
        "id": "hIzkJcYEl6HM"
      },
      "source": [
        "**Resposta:**\n",
        "\n",
        "    [X] Regressão\n",
        "    [ ] Classificação\n",
        "    [ ] Clusterização\n",
        "\n",
        "\n",
        "Resposta: A regressão é um método estatístico usado para estimar a relação entre variáveis e prever resultados futuros. É útil para previsão e identificação de tendências, bem como para identificar a influência de uma variável sobre outra."
      ]
    },
    {
      "cell_type": "markdown",
      "metadata": {
        "id": "8ej3J8cUl6HN"
      },
      "source": [
        "**Pergunta:** Escolha 2 modelos de algoritmos para testar a performance de cada um deles."
      ]
    },
    {
      "cell_type": "markdown",
      "metadata": {
        "id": "ImQr-qnTl6HN"
      },
      "source": [
        "**Resposta:**\n",
        "\n",
        "1. algoritimo Regressão Linear\n",
        "2. algoritimo Random Forests"
      ]
    },
    {
      "cell_type": "markdown",
      "metadata": {
        "id": "qoxTlg_Ml6HN"
      },
      "source": [
        "__(BONUS: 1 ponto extra.)__ **Pergunta:** Explique como cada algoritmo funciona.\n"
      ]
    },
    {
      "cell_type": "markdown",
      "metadata": {
        "id": "wJBIWfo0l6HO"
      },
      "source": [
        "**Resposta:**\n",
        "\n",
        "1. algoritimo Regressão Linear:Usada para prever uma variável contínua, como o preço de uma casa, com base em uma ou mais variáveis ​​independentes.\n",
        "2. algoritimo Random Forests: é um modelo de aprendizado conjunto que combina várias árvores de decisão e é usado para melhorar a precisão da previsão."
      ]
    },
    {
      "cell_type": "markdown",
      "metadata": {
        "id": "0qmqxnptl6HO"
      },
      "source": [
        "## 4. Treinamento e teste do modelo"
      ]
    },
    {
      "cell_type": "markdown",
      "metadata": {
        "id": "GeUjJJyAl6HO"
      },
      "source": [
        "Crie um subset dos dados apenas com os atributos que serão utilizados para o treinameno e teste do modelo. Divida o subset em conjunto de treinamento e teste."
      ]
    },
    {
      "cell_type": "code",
      "source": [
        "from sklearn.preprocessing import LabelEncoder\n",
        "\n",
        "ll = LabelEncoder()\n",
        "df['bairro'] = ll.fit_transform(df['bairro'])"
      ],
      "metadata": {
        "id": "cA53jSSSV0HT"
      },
      "execution_count": 216,
      "outputs": []
    },
    {
      "cell_type": "code",
      "execution_count": 217,
      "metadata": {
        "id": "VYIln5Jsl6HO"
      },
      "outputs": [],
      "source": [
        "from sklearn.model_selection import train_test_split\n",
        "X = df.drop('valor', axis=1)\n",
        "y = df['valor']\n",
        "\n",
        "X_train, X_test, y_train, y_test = train_test_split(X, y, random_state=10,test_size=0.3)"
      ]
    },
    {
      "cell_type": "markdown",
      "metadata": {
        "id": "Eo_nFiYSl6HO"
      },
      "source": [
        "Faça o treinamento e teste dos 2 algoritmos escolhidos. Utilize uma métrica (ex. R2-score, RMSE e MAE...) para avaliar a performance dos modelos."
      ]
    },
    {
      "cell_type": "markdown",
      "metadata": {
        "id": "YPuuzQD_l6HP"
      },
      "source": [
        "### Algoritmo 1"
      ]
    },
    {
      "cell_type": "code",
      "source": [
        "df.info()"
      ],
      "metadata": {
        "colab": {
          "base_uri": "https://localhost:8080/"
        },
        "id": "TsfiyZo5ZTy8",
        "outputId": "cc7249ed-9a86-45bc-bf1d-164c07249a47"
      },
      "execution_count": 218,
      "outputs": [
        {
          "output_type": "stream",
          "name": "stdout",
          "text": [
            "<class 'pandas.core.frame.DataFrame'>\n",
            "Int64Index: 112 entries, 0 to 113\n",
            "Data columns (total 6 columns):\n",
            " #   Column     Non-Null Count  Dtype  \n",
            "---  ------     --------------  -----  \n",
            " 0   metros     112 non-null    int64  \n",
            " 1   valor      112 non-null    float64\n",
            " 2   quartos    112 non-null    int64  \n",
            " 3   vagas      112 non-null    int64  \n",
            " 4   reformado  112 non-null    float64\n",
            " 5   bairro     112 non-null    int64  \n",
            "dtypes: float64(2), int64(4)\n",
            "memory usage: 6.1 KB\n"
          ]
        }
      ]
    },
    {
      "cell_type": "code",
      "execution_count": 219,
      "metadata": {
        "id": "3ffeDPgEl6HP",
        "colab": {
          "base_uri": "https://localhost:8080/",
          "height": 75
        },
        "outputId": "87e6ac32-806a-44ec-e06e-e8ac32bcf994"
      },
      "outputs": [
        {
          "output_type": "execute_result",
          "data": {
            "text/plain": [
              "LinearRegression()"
            ],
            "text/html": [
              "<style>#sk-container-id-4 {color: black;background-color: white;}#sk-container-id-4 pre{padding: 0;}#sk-container-id-4 div.sk-toggleable {background-color: white;}#sk-container-id-4 label.sk-toggleable__label {cursor: pointer;display: block;width: 100%;margin-bottom: 0;padding: 0.3em;box-sizing: border-box;text-align: center;}#sk-container-id-4 label.sk-toggleable__label-arrow:before {content: \"▸\";float: left;margin-right: 0.25em;color: #696969;}#sk-container-id-4 label.sk-toggleable__label-arrow:hover:before {color: black;}#sk-container-id-4 div.sk-estimator:hover label.sk-toggleable__label-arrow:before {color: black;}#sk-container-id-4 div.sk-toggleable__content {max-height: 0;max-width: 0;overflow: hidden;text-align: left;background-color: #f0f8ff;}#sk-container-id-4 div.sk-toggleable__content pre {margin: 0.2em;color: black;border-radius: 0.25em;background-color: #f0f8ff;}#sk-container-id-4 input.sk-toggleable__control:checked~div.sk-toggleable__content {max-height: 200px;max-width: 100%;overflow: auto;}#sk-container-id-4 input.sk-toggleable__control:checked~label.sk-toggleable__label-arrow:before {content: \"▾\";}#sk-container-id-4 div.sk-estimator input.sk-toggleable__control:checked~label.sk-toggleable__label {background-color: #d4ebff;}#sk-container-id-4 div.sk-label input.sk-toggleable__control:checked~label.sk-toggleable__label {background-color: #d4ebff;}#sk-container-id-4 input.sk-hidden--visually {border: 0;clip: rect(1px 1px 1px 1px);clip: rect(1px, 1px, 1px, 1px);height: 1px;margin: -1px;overflow: hidden;padding: 0;position: absolute;width: 1px;}#sk-container-id-4 div.sk-estimator {font-family: monospace;background-color: #f0f8ff;border: 1px dotted black;border-radius: 0.25em;box-sizing: border-box;margin-bottom: 0.5em;}#sk-container-id-4 div.sk-estimator:hover {background-color: #d4ebff;}#sk-container-id-4 div.sk-parallel-item::after {content: \"\";width: 100%;border-bottom: 1px solid gray;flex-grow: 1;}#sk-container-id-4 div.sk-label:hover label.sk-toggleable__label {background-color: #d4ebff;}#sk-container-id-4 div.sk-serial::before {content: \"\";position: absolute;border-left: 1px solid gray;box-sizing: border-box;top: 0;bottom: 0;left: 50%;z-index: 0;}#sk-container-id-4 div.sk-serial {display: flex;flex-direction: column;align-items: center;background-color: white;padding-right: 0.2em;padding-left: 0.2em;position: relative;}#sk-container-id-4 div.sk-item {position: relative;z-index: 1;}#sk-container-id-4 div.sk-parallel {display: flex;align-items: stretch;justify-content: center;background-color: white;position: relative;}#sk-container-id-4 div.sk-item::before, #sk-container-id-4 div.sk-parallel-item::before {content: \"\";position: absolute;border-left: 1px solid gray;box-sizing: border-box;top: 0;bottom: 0;left: 50%;z-index: -1;}#sk-container-id-4 div.sk-parallel-item {display: flex;flex-direction: column;z-index: 1;position: relative;background-color: white;}#sk-container-id-4 div.sk-parallel-item:first-child::after {align-self: flex-end;width: 50%;}#sk-container-id-4 div.sk-parallel-item:last-child::after {align-self: flex-start;width: 50%;}#sk-container-id-4 div.sk-parallel-item:only-child::after {width: 0;}#sk-container-id-4 div.sk-dashed-wrapped {border: 1px dashed gray;margin: 0 0.4em 0.5em 0.4em;box-sizing: border-box;padding-bottom: 0.4em;background-color: white;}#sk-container-id-4 div.sk-label label {font-family: monospace;font-weight: bold;display: inline-block;line-height: 1.2em;}#sk-container-id-4 div.sk-label-container {text-align: center;}#sk-container-id-4 div.sk-container {/* jupyter's `normalize.less` sets `[hidden] { display: none; }` but bootstrap.min.css set `[hidden] { display: none !important; }` so we also need the `!important` here to be able to override the default hidden behavior on the sphinx rendered scikit-learn.org. See: https://github.com/scikit-learn/scikit-learn/issues/21755 */display: inline-block !important;position: relative;}#sk-container-id-4 div.sk-text-repr-fallback {display: none;}</style><div id=\"sk-container-id-4\" class=\"sk-top-container\"><div class=\"sk-text-repr-fallback\"><pre>LinearRegression()</pre><b>In a Jupyter environment, please rerun this cell to show the HTML representation or trust the notebook. <br />On GitHub, the HTML representation is unable to render, please try loading this page with nbviewer.org.</b></div><div class=\"sk-container\" hidden><div class=\"sk-item\"><div class=\"sk-estimator sk-toggleable\"><input class=\"sk-toggleable__control sk-hidden--visually\" id=\"sk-estimator-id-4\" type=\"checkbox\" checked><label for=\"sk-estimator-id-4\" class=\"sk-toggleable__label sk-toggleable__label-arrow\">LinearRegression</label><div class=\"sk-toggleable__content\"><pre>LinearRegression()</pre></div></div></div></div></div>"
            ]
          },
          "metadata": {},
          "execution_count": 219
        }
      ],
      "source": [
        "from sklearn.linear_model import LinearRegression\n",
        "modelo_1 = LinearRegression()\n",
        "modelo_1.fit(X_train, y_train)\n"
      ]
    },
    {
      "cell_type": "code",
      "source": [
        "from sklearn.metrics import mean_squared_error\n",
        "from sklearn.metrics import mean_absolute_error\n",
        "from sklearn.metrics import r2_score\n",
        "\n",
        "y_pred_test = modelo_1.predict(X_test)\n",
        "\n",
        "mse = mean_squared_error(y_test, y_pred_test)\n",
        "mae = mean_absolute_error(y_test, y_pred_test)\n",
        "r2_1_test = r2_score(y_test, y_pred_test)\n",
        "\n",
        "print(f'MSE: {mse:,.2f}')\n",
        "print(f'MAE: {mae:,.2f}')\n",
        "print(f'R2: {r2_1_test:.2%}')"
      ],
      "metadata": {
        "id": "GU-9zniTF3HW",
        "colab": {
          "base_uri": "https://localhost:8080/"
        },
        "outputId": "ca3b5415-2463-4b11-e431-95ad541713ad"
      },
      "execution_count": 230,
      "outputs": [
        {
          "output_type": "stream",
          "name": "stdout",
          "text": [
            "MSE: 6,136.09\n",
            "MAE: 54.76\n",
            "R2: 80.76%\n"
          ]
        }
      ]
    },
    {
      "cell_type": "code",
      "source": [
        "y_pred_train = modelo_1.predict(X_train)\n",
        "\n",
        "mse = mean_squared_error(y_train, y_pred_train)\n",
        "mae = mean_absolute_error(y_train, y_pred_train)\n",
        "r2_2_train = r2_score(y_train, y_pred_train)\n",
        "\n",
        "print(f'MSE: {mse:,.2f}')\n",
        "print(f'MAE: {mae:,.2f}')\n",
        "print(f'R2: {r2_2_train:.2%}')"
      ],
      "metadata": {
        "id": "uWqvThRhMyNF",
        "colab": {
          "base_uri": "https://localhost:8080/"
        },
        "outputId": "4247f410-6d7a-4beb-82e9-7fc1dab1cf64"
      },
      "execution_count": 223,
      "outputs": [
        {
          "output_type": "stream",
          "name": "stdout",
          "text": [
            "MSE: 3,768.01\n",
            "MAE: 49.42\n",
            "R2: 86.43%\n"
          ]
        }
      ]
    },
    {
      "cell_type": "markdown",
      "metadata": {
        "id": "KMdP1WJjl6HP"
      },
      "source": [
        "### Algoritmo 2"
      ]
    },
    {
      "cell_type": "code",
      "execution_count": 224,
      "metadata": {
        "id": "G-1iwP64l6HP",
        "colab": {
          "base_uri": "https://localhost:8080/",
          "height": 75
        },
        "outputId": "87f1294e-6cd8-4923-be3c-2baaf01e5e3a"
      },
      "outputs": [
        {
          "output_type": "execute_result",
          "data": {
            "text/plain": [
              "RandomForestRegressor()"
            ],
            "text/html": [
              "<style>#sk-container-id-5 {color: black;background-color: white;}#sk-container-id-5 pre{padding: 0;}#sk-container-id-5 div.sk-toggleable {background-color: white;}#sk-container-id-5 label.sk-toggleable__label {cursor: pointer;display: block;width: 100%;margin-bottom: 0;padding: 0.3em;box-sizing: border-box;text-align: center;}#sk-container-id-5 label.sk-toggleable__label-arrow:before {content: \"▸\";float: left;margin-right: 0.25em;color: #696969;}#sk-container-id-5 label.sk-toggleable__label-arrow:hover:before {color: black;}#sk-container-id-5 div.sk-estimator:hover label.sk-toggleable__label-arrow:before {color: black;}#sk-container-id-5 div.sk-toggleable__content {max-height: 0;max-width: 0;overflow: hidden;text-align: left;background-color: #f0f8ff;}#sk-container-id-5 div.sk-toggleable__content pre {margin: 0.2em;color: black;border-radius: 0.25em;background-color: #f0f8ff;}#sk-container-id-5 input.sk-toggleable__control:checked~div.sk-toggleable__content {max-height: 200px;max-width: 100%;overflow: auto;}#sk-container-id-5 input.sk-toggleable__control:checked~label.sk-toggleable__label-arrow:before {content: \"▾\";}#sk-container-id-5 div.sk-estimator input.sk-toggleable__control:checked~label.sk-toggleable__label {background-color: #d4ebff;}#sk-container-id-5 div.sk-label input.sk-toggleable__control:checked~label.sk-toggleable__label {background-color: #d4ebff;}#sk-container-id-5 input.sk-hidden--visually {border: 0;clip: rect(1px 1px 1px 1px);clip: rect(1px, 1px, 1px, 1px);height: 1px;margin: -1px;overflow: hidden;padding: 0;position: absolute;width: 1px;}#sk-container-id-5 div.sk-estimator {font-family: monospace;background-color: #f0f8ff;border: 1px dotted black;border-radius: 0.25em;box-sizing: border-box;margin-bottom: 0.5em;}#sk-container-id-5 div.sk-estimator:hover {background-color: #d4ebff;}#sk-container-id-5 div.sk-parallel-item::after {content: \"\";width: 100%;border-bottom: 1px solid gray;flex-grow: 1;}#sk-container-id-5 div.sk-label:hover label.sk-toggleable__label {background-color: #d4ebff;}#sk-container-id-5 div.sk-serial::before {content: \"\";position: absolute;border-left: 1px solid gray;box-sizing: border-box;top: 0;bottom: 0;left: 50%;z-index: 0;}#sk-container-id-5 div.sk-serial {display: flex;flex-direction: column;align-items: center;background-color: white;padding-right: 0.2em;padding-left: 0.2em;position: relative;}#sk-container-id-5 div.sk-item {position: relative;z-index: 1;}#sk-container-id-5 div.sk-parallel {display: flex;align-items: stretch;justify-content: center;background-color: white;position: relative;}#sk-container-id-5 div.sk-item::before, #sk-container-id-5 div.sk-parallel-item::before {content: \"\";position: absolute;border-left: 1px solid gray;box-sizing: border-box;top: 0;bottom: 0;left: 50%;z-index: -1;}#sk-container-id-5 div.sk-parallel-item {display: flex;flex-direction: column;z-index: 1;position: relative;background-color: white;}#sk-container-id-5 div.sk-parallel-item:first-child::after {align-self: flex-end;width: 50%;}#sk-container-id-5 div.sk-parallel-item:last-child::after {align-self: flex-start;width: 50%;}#sk-container-id-5 div.sk-parallel-item:only-child::after {width: 0;}#sk-container-id-5 div.sk-dashed-wrapped {border: 1px dashed gray;margin: 0 0.4em 0.5em 0.4em;box-sizing: border-box;padding-bottom: 0.4em;background-color: white;}#sk-container-id-5 div.sk-label label {font-family: monospace;font-weight: bold;display: inline-block;line-height: 1.2em;}#sk-container-id-5 div.sk-label-container {text-align: center;}#sk-container-id-5 div.sk-container {/* jupyter's `normalize.less` sets `[hidden] { display: none; }` but bootstrap.min.css set `[hidden] { display: none !important; }` so we also need the `!important` here to be able to override the default hidden behavior on the sphinx rendered scikit-learn.org. See: https://github.com/scikit-learn/scikit-learn/issues/21755 */display: inline-block !important;position: relative;}#sk-container-id-5 div.sk-text-repr-fallback {display: none;}</style><div id=\"sk-container-id-5\" class=\"sk-top-container\"><div class=\"sk-text-repr-fallback\"><pre>RandomForestRegressor()</pre><b>In a Jupyter environment, please rerun this cell to show the HTML representation or trust the notebook. <br />On GitHub, the HTML representation is unable to render, please try loading this page with nbviewer.org.</b></div><div class=\"sk-container\" hidden><div class=\"sk-item\"><div class=\"sk-estimator sk-toggleable\"><input class=\"sk-toggleable__control sk-hidden--visually\" id=\"sk-estimator-id-5\" type=\"checkbox\" checked><label for=\"sk-estimator-id-5\" class=\"sk-toggleable__label sk-toggleable__label-arrow\">RandomForestRegressor</label><div class=\"sk-toggleable__content\"><pre>RandomForestRegressor()</pre></div></div></div></div></div>"
            ]
          },
          "metadata": {},
          "execution_count": 224
        }
      ],
      "source": [
        "from sklearn.ensemble import RandomForestRegressor\n",
        "modelo_2 = RandomForestRegressor()\n",
        "modelo_2.fit(X_train, y_train)"
      ]
    },
    {
      "cell_type": "code",
      "source": [
        "y_pred_test = modelo_2.predict(X_test)\n",
        "\n",
        "mse = mean_squared_error(y_test, y_pred_test)\n",
        "mae = mean_absolute_error(y_test, y_pred_test)\n",
        "r2_2_test = r2_score(y_test, y_pred_test)\n",
        "\n",
        "print(f'MSE: {mse:,.2f}')\n",
        "print(f'MAE: {mae:,.2f}')\n",
        "print(f'R2: {r2_2_test:.2%}')"
      ],
      "metadata": {
        "id": "D2lFuFlvPqoE",
        "colab": {
          "base_uri": "https://localhost:8080/"
        },
        "outputId": "eb3762c7-0215-4800-932f-e9cd1576cfbe"
      },
      "execution_count": 225,
      "outputs": [
        {
          "output_type": "stream",
          "name": "stdout",
          "text": [
            "MSE: 8,493.44\n",
            "MAE: 61.62\n",
            "R2: 73.37%\n"
          ]
        }
      ]
    },
    {
      "cell_type": "code",
      "source": [
        "y_pred_train = modelo_2.predict(X_train)\n",
        "\n",
        "mse = mean_squared_error(y_train, y_pred_train)\n",
        "mae = mean_absolute_error(y_train, y_pred_train)\n",
        "r2_2_train = r2_score(y_train, y_pred_train)\n",
        "\n",
        "print(f'MSE: {mse:,.2f}')\n",
        "print(f'MAE: {mae:,.2f}')\n",
        "print(f'R2: {r2_2_train:.2%}')"
      ],
      "metadata": {
        "id": "tWlY8N83PrXz",
        "colab": {
          "base_uri": "https://localhost:8080/"
        },
        "outputId": "3c0cd524-c1f1-45a0-c2ef-503a9caba4c7"
      },
      "execution_count": 226,
      "outputs": [
        {
          "output_type": "stream",
          "name": "stdout",
          "text": [
            "MSE: 766.31\n",
            "MAE: 20.76\n",
            "R2: 97.24%\n"
          ]
        }
      ]
    },
    {
      "cell_type": "markdown",
      "metadata": {
        "id": "0ak21w7Rl6HP"
      },
      "source": [
        "Sumarize na tabela abaixo os resultados obtidos para os conjuntos de dados de treino e de teste"
      ]
    },
    {
      "cell_type": "markdown",
      "metadata": {
        "id": "YesPf1txl6HQ"
      },
      "source": [
        "**Resposta:**\n",
        "\n",
        "|    | algoritmo1 | algoritmo2 |\n",
        "|:---:|:---:|:---:|\n",
        "| treino | X | X |\n",
        "| teste  | X | X |"
      ]
    },
    {
      "cell_type": "code",
      "source": [
        "result_r2 = pd.DataFrame({'algoritmo1': [f'{r2_1_test:.2%}', f'{r2_2_train:.2%}'],\n",
        "                          'algoritmo2': [f'{r2_2_test:.2%}', f'{r2_2_train:.2%}']},\n",
        "                         index=['Teste', 'Treino'])\n",
        "\n",
        "display(result_r2)"
      ],
      "metadata": {
        "id": "vZ7mfSbhQahk",
        "colab": {
          "base_uri": "https://localhost:8080/",
          "height": 112
        },
        "outputId": "36628814-4653-4904-a562-75e5198ab723"
      },
      "execution_count": 231,
      "outputs": [
        {
          "output_type": "display_data",
          "data": {
            "text/plain": [
              "       algoritmo1 algoritmo2\n",
              "Teste      80.76%     73.37%\n",
              "Treino     97.24%     97.24%"
            ],
            "text/html": [
              "\n",
              "  <div id=\"df-e0608433-4b01-4b06-a913-504d172adca6\">\n",
              "    <div class=\"colab-df-container\">\n",
              "      <div>\n",
              "<style scoped>\n",
              "    .dataframe tbody tr th:only-of-type {\n",
              "        vertical-align: middle;\n",
              "    }\n",
              "\n",
              "    .dataframe tbody tr th {\n",
              "        vertical-align: top;\n",
              "    }\n",
              "\n",
              "    .dataframe thead th {\n",
              "        text-align: right;\n",
              "    }\n",
              "</style>\n",
              "<table border=\"1\" class=\"dataframe\">\n",
              "  <thead>\n",
              "    <tr style=\"text-align: right;\">\n",
              "      <th></th>\n",
              "      <th>algoritmo1</th>\n",
              "      <th>algoritmo2</th>\n",
              "    </tr>\n",
              "  </thead>\n",
              "  <tbody>\n",
              "    <tr>\n",
              "      <th>Teste</th>\n",
              "      <td>80.76%</td>\n",
              "      <td>73.37%</td>\n",
              "    </tr>\n",
              "    <tr>\n",
              "      <th>Treino</th>\n",
              "      <td>97.24%</td>\n",
              "      <td>97.24%</td>\n",
              "    </tr>\n",
              "  </tbody>\n",
              "</table>\n",
              "</div>\n",
              "      <button class=\"colab-df-convert\" onclick=\"convertToInteractive('df-e0608433-4b01-4b06-a913-504d172adca6')\"\n",
              "              title=\"Convert this dataframe to an interactive table.\"\n",
              "              style=\"display:none;\">\n",
              "        \n",
              "  <svg xmlns=\"http://www.w3.org/2000/svg\" height=\"24px\"viewBox=\"0 0 24 24\"\n",
              "       width=\"24px\">\n",
              "    <path d=\"M0 0h24v24H0V0z\" fill=\"none\"/>\n",
              "    <path d=\"M18.56 5.44l.94 2.06.94-2.06 2.06-.94-2.06-.94-.94-2.06-.94 2.06-2.06.94zm-11 1L8.5 8.5l.94-2.06 2.06-.94-2.06-.94L8.5 2.5l-.94 2.06-2.06.94zm10 10l.94 2.06.94-2.06 2.06-.94-2.06-.94-.94-2.06-.94 2.06-2.06.94z\"/><path d=\"M17.41 7.96l-1.37-1.37c-.4-.4-.92-.59-1.43-.59-.52 0-1.04.2-1.43.59L10.3 9.45l-7.72 7.72c-.78.78-.78 2.05 0 2.83L4 21.41c.39.39.9.59 1.41.59.51 0 1.02-.2 1.41-.59l7.78-7.78 2.81-2.81c.8-.78.8-2.07 0-2.86zM5.41 20L4 18.59l7.72-7.72 1.47 1.35L5.41 20z\"/>\n",
              "  </svg>\n",
              "      </button>\n",
              "      \n",
              "  <style>\n",
              "    .colab-df-container {\n",
              "      display:flex;\n",
              "      flex-wrap:wrap;\n",
              "      gap: 12px;\n",
              "    }\n",
              "\n",
              "    .colab-df-convert {\n",
              "      background-color: #E8F0FE;\n",
              "      border: none;\n",
              "      border-radius: 50%;\n",
              "      cursor: pointer;\n",
              "      display: none;\n",
              "      fill: #1967D2;\n",
              "      height: 32px;\n",
              "      padding: 0 0 0 0;\n",
              "      width: 32px;\n",
              "    }\n",
              "\n",
              "    .colab-df-convert:hover {\n",
              "      background-color: #E2EBFA;\n",
              "      box-shadow: 0px 1px 2px rgba(60, 64, 67, 0.3), 0px 1px 3px 1px rgba(60, 64, 67, 0.15);\n",
              "      fill: #174EA6;\n",
              "    }\n",
              "\n",
              "    [theme=dark] .colab-df-convert {\n",
              "      background-color: #3B4455;\n",
              "      fill: #D2E3FC;\n",
              "    }\n",
              "\n",
              "    [theme=dark] .colab-df-convert:hover {\n",
              "      background-color: #434B5C;\n",
              "      box-shadow: 0px 1px 3px 1px rgba(0, 0, 0, 0.15);\n",
              "      filter: drop-shadow(0px 1px 2px rgba(0, 0, 0, 0.3));\n",
              "      fill: #FFFFFF;\n",
              "    }\n",
              "  </style>\n",
              "\n",
              "      <script>\n",
              "        const buttonEl =\n",
              "          document.querySelector('#df-e0608433-4b01-4b06-a913-504d172adca6 button.colab-df-convert');\n",
              "        buttonEl.style.display =\n",
              "          google.colab.kernel.accessAllowed ? 'block' : 'none';\n",
              "\n",
              "        async function convertToInteractive(key) {\n",
              "          const element = document.querySelector('#df-e0608433-4b01-4b06-a913-504d172adca6');\n",
              "          const dataTable =\n",
              "            await google.colab.kernel.invokeFunction('convertToInteractive',\n",
              "                                                     [key], {});\n",
              "          if (!dataTable) return;\n",
              "\n",
              "          const docLinkHtml = 'Like what you see? Visit the ' +\n",
              "            '<a target=\"_blank\" href=https://colab.research.google.com/notebooks/data_table.ipynb>data table notebook</a>'\n",
              "            + ' to learn more about interactive tables.';\n",
              "          element.innerHTML = '';\n",
              "          dataTable['output_type'] = 'display_data';\n",
              "          await google.colab.output.renderOutput(dataTable, element);\n",
              "          const docLink = document.createElement('div');\n",
              "          docLink.innerHTML = docLinkHtml;\n",
              "          element.appendChild(docLink);\n",
              "        }\n",
              "      </script>\n",
              "    </div>\n",
              "  </div>\n",
              "  "
            ]
          },
          "metadata": {}
        }
      ]
    },
    {
      "cell_type": "markdown",
      "metadata": {
        "id": "eHbxbZ10l6HQ"
      },
      "source": [
        "**Pergunta:** Qual dos algoritmos obteve um resultado melhor? Justifique\n",
        "\n",
        "**Resposta:** o algaritmo 1 pois teve uma maior eficacia, mesmo tendo o mesmo treino \n"
      ]
    },
    {
      "cell_type": "markdown",
      "metadata": {
        "id": "he9VRAqol6HQ"
      },
      "source": [
        "## Modelo de produção: Teste com novos dados\n",
        "\n",
        "Use seu modelo treinado para determinar: \n",
        "\n",
        "**`Quanto vale um apartamento de 72m2 com 2 quartos, 2 vagas, reformado no Centro?`**"
      ]
    },
    {
      "cell_type": "code",
      "source": [
        "df.columns\n"
      ],
      "metadata": {
        "colab": {
          "base_uri": "https://localhost:8080/"
        },
        "id": "ESqhxUJNbFya",
        "outputId": "1648a5be-01fa-46a8-d2bb-492f388d9024"
      },
      "execution_count": 234,
      "outputs": [
        {
          "output_type": "execute_result",
          "data": {
            "text/plain": [
              "Index(['metros', 'valor', 'quartos', 'vagas', 'reformado', 'bairro'], dtype='object')"
            ]
          },
          "metadata": {},
          "execution_count": 234
        }
      ]
    },
    {
      "cell_type": "code",
      "execution_count": 237,
      "metadata": {
        "id": "gVnjNJz0l6HQ",
        "colab": {
          "base_uri": "https://localhost:8080/"
        },
        "outputId": "286a84bf-1fd7-4d64-ef58-21c1bd700ad1"
      },
      "outputs": [
        {
          "output_type": "stream",
          "name": "stdout",
          "text": [
            "O apartamento custa R$365.5589703511504\n"
          ]
        },
        {
          "output_type": "stream",
          "name": "stderr",
          "text": [
            "/usr/local/lib/python3.9/dist-packages/sklearn/base.py:439: UserWarning: X does not have valid feature names, but LinearRegression was fitted with feature names\n",
            "  warnings.warn(\n",
            "/usr/local/lib/python3.9/dist-packages/sklearn/base.py:439: UserWarning: X does not have valid feature names, but LinearRegression was fitted with feature names\n",
            "  warnings.warn(\n"
          ]
        }
      ],
      "source": [
        "modelo_1.predict([[72,2,2,1,2]])\n",
        "\n",
        "print(f'O apartamento custa R${modelo_1.predict([[72,2,2,1,2]])[0]}')"
      ]
    },
    {
      "cell_type": "markdown",
      "metadata": {
        "id": "BuGITvxul6HR"
      },
      "source": [
        "## 6. Conclusões finais\n",
        "\n",
        "Ufa!!... Chegamos ao final. Parabéns! De forma simplificada e completa, passamos por todas as etapas de um projeto de aprendizado de maquina. Outras etapas podem ser adicionadas no tratamento dos dados e desenvolvimento do modelo.\n"
      ]
    },
    {
      "cell_type": "markdown",
      "metadata": {
        "id": "D3nAMGqkl6HR"
      },
      "source": [
        "**Pergunta:**: O modelo desenvolvido obteve um resultado satisfatório? Justifique:\n",
        "\n",
        "**Resposta**:O modelo teve um resultado acima da media, mais não fiquei satisfeito com o resultado "
      ]
    },
    {
      "cell_type": "markdown",
      "metadata": {
        "id": "ghTrn5ELl6HR"
      },
      "source": [
        "**Pergunta:**: O que faria diferente para melhorar resultado obtido? Justifique:\n",
        "\n",
        "**Resposta**:Eu tentaria utilizar outros algaritmos ate encontrar o melhor possivel, com o melhor resultado \n",
        "\n",
        "\n",
        "\n",
        "\n"
      ]
    }
  ],
  "metadata": {
    "interpreter": {
      "hash": "916dbcbb3f70747c44a77c7bcd40155683ae19c65e1c03b4aa3499c5328201f1"
    },
    "kernelspec": {
      "display_name": "Python 3 (ipykernel)",
      "language": "python",
      "name": "python3"
    },
    "language_info": {
      "codemirror_mode": {
        "name": "ipython",
        "version": 3
      },
      "file_extension": ".py",
      "mimetype": "text/x-python",
      "name": "python",
      "nbconvert_exporter": "python",
      "pygments_lexer": "ipython3",
      "version": "3.10.2"
    },
    "colab": {
      "provenance": []
    }
  },
  "nbformat": 4,
  "nbformat_minor": 0
}